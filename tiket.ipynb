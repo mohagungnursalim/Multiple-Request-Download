{
 "cells": [
  {
   "cell_type": "code",
   "execution_count": 1,
   "metadata": {},
   "outputs": [
    {
     "name": "stdout",
     "output_type": "stream",
     "text": [
      "Data berhasil didownload dan disimpan sebagai data_tiket.pdf\n"
     ]
    }
   ],
   "source": [
    "import requests\n",
    "import time\n",
    "\n",
    "def download_data(url, file_name, max_attempts=1, delay=1):\n",
    "    attempts = 0\n",
    "    success = False\n",
    "\n",
    "    while not success and attempts < max_attempts:\n",
    "        try:\n",
    "            # Mengirim permintaan GET ke URL\n",
    "            response = requests.get(url)\n",
    "            # Mengecek apakah permintaan berhasil\n",
    "            response.raise_for_status()\n",
    "\n",
    "            # Menyimpan konten respon ke dalam file\n",
    "            with open(file_name, 'wb') as file:\n",
    "                file.write(response.content)\n",
    "\n",
    "            # Mengecek apakah file tidak kosong\n",
    "            with open(file_name, 'rb') as file:\n",
    "                if file.read():\n",
    "                    success = True\n",
    "                    print(f\"Data berhasil didownload dan disimpan sebagai {file_name}\")\n",
    "                else:\n",
    "                    print(\"File kosong. Mencoba ulang...\")\n",
    "\n",
    "        except requests.exceptions.HTTPError as http_err:\n",
    "            print(f\"HTTP error terjadi: {http_err}\")\n",
    "        except Exception as err:\n",
    "            print(f\"Error terjadi: {err}\")\n",
    "\n",
    "        if not success:\n",
    "            attempts += 1\n",
    "            print(f\"Mencoba ulang... ({attempts}/{max_attempts})\")\n",
    "            time.sleep(delay)\n",
    "\n",
    "    if not success:\n",
    "        print(\"Gagal mendownload data setelah beberapa kali percobaan.\")\n",
    "\n",
    "# URL endpoint\n",
    "url = \"https://wisuda.untad.ac.id/appwisuda2/cetak_tiket/F52120029\"\n",
    "# Nama file untuk menyimpan data\n",
    "file_name = \"data_tiket.pdf\"\n",
    "\n",
    "\n",
    "download_data(url, file_name)\n"
   ]
  }
 ],
 "metadata": {
  "kernelspec": {
   "display_name": "Python 3",
   "language": "python",
   "name": "python3"
  },
  "language_info": {
   "codemirror_mode": {
    "name": "ipython",
    "version": 3
   },
   "file_extension": ".py",
   "mimetype": "text/x-python",
   "name": "python",
   "nbconvert_exporter": "python",
   "pygments_lexer": "ipython3",
   "version": "3.12.4"
  }
 },
 "nbformat": 4,
 "nbformat_minor": 2
}
